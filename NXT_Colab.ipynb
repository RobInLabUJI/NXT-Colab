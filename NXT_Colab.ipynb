{
 "cells": [
  {
   "cell_type": "markdown",
   "metadata": {
    "colab_type": "text",
    "id": "view-in-github"
   },
   "source": [
    "<a href=\"https://colab.research.google.com/github/RobInLabUJI/NXT-Colab/blob/main/NXT_Colab.ipynb\" target=\"_parent\"><img src=\"https://colab.research.google.com/assets/colab-badge.svg\" alt=\"Open In Colab\"/></a>"
   ]
  },
  {
   "cell_type": "markdown",
   "metadata": {
    "id": "euwUuOGl8oxy"
   },
   "source": [
    "# 1. NXT Colab\n",
    "\n",
    "Segons la Viquipèdia,\n",
    "\"[**Lego Mindstorms**](https://ca.wikipedia.org/wiki/Lego_Mindstorms) és una línia de jocs d'experimentació centrats en la robòtica, de la casa [Lego](https://ca.wikipedia.org/wiki/Lego). Però les seves possibilitats en fan una eina apreciable en entorns didàctics des de l'escola primària a la universitat\".\n",
    "\n",
    "En aquest taller aprendreu a programar un robot de Lego amb el [llenguatge de programació Python](https://ca.wikipedia.org/wiki/Python), un llenguatge de programació d'alt nivell i propòsit general molt utilitzat. Tingueu o no experiència en programar, no patiu: vos donarem exemples per a provar amb el robot, que poc a poc anirant fent-se més sofisticats.\n",
    "\n",
    "Programareu el robot per a moure's i reaccionar a l'entorn amb els seus sensors: detectar obstacles, seguir línies, ballar, fins i tot lluitar a sumo!\n",
    "\n",
    "<img src=\"https://github.com/RobInLabUJI/NXT-Colab/raw/main/img/nxt.png\" width=300 align=\"centre\">\n",
    "\n",
    "Abans de continuar, assegureu-vos que Colab està connectat a l'entorn d'execució local."
   ]
  },
  {
   "cell_type": "markdown",
   "metadata": {
    "id": "RQInM92vq0H3"
   },
   "source": [
    "[<img src=\"https://github.com/RobInLabUJI/NXT-Colab/raw/main/img/brick.jpg\" align=\"right\">](https://en.wikipedia.org/wiki/Lego_Mindstorms_NXT#NXT_Intelligent_Brick)\n",
    "\n",
    "# 2. Mindstorms NXT\n",
    "Lego Mindstorms NXT és la segona generació de kits de robòtica de Lego. El controlador NXT permet connectar fins a quatre sensors i tres motors. Té una pantalla de 100 x 60 píxels, un altaveu, i quatre botons. Porta un microprocessador de 32 bits amb 256KB de memòria FLASH i 64KB de RAM, i es pot communicar per USB i Bluetooth amb l'ordinador.\n",
    "\n",
    "En primer lloc **enceneu el controlador amb el botó taronja**. Emetrà un so i apareixerà texte i unes icones a la pantalla. Si no és així, indiqueu-ho al professor de l'aula."
   ]
  },
  {
   "cell_type": "markdown",
   "metadata": {
    "id": "oqoFRMVCs2yk"
   },
   "source": [
    "# 3. Connexió\n",
    "\n",
    "Assegureu-vos de que el controlador del robot està en marxa, i proveu el següent codi, introduint l'adreça Bluetooth del NXT.\n",
    "\n",
    "Esta és l'adreça per a cada NXT segons el número que porta etiquetat:\n",
    "```\n",
    "2. 00:16:53:0A:9B:72\n",
    "3. 00:16:53:0A:9D:F2\n",
    "4. 00:16:53:0A:5C:72\n",
    "5. 00:16:53:08:D5:59\n",
    "6. 00:16:53:08:DE:51\n",
    "7. 00:16:53:0A:5A:B4\n",
    "8: 00:16:53:0A:9B:27\n",
    "9: 00:16:53:0A:9E:2C\n",
    "10. 00:16:53:17:92:8A\n",
    "11. 00:16:53:17:94:E0\n",
    "12. 00:16:53:1A:C6:BD\n",
    "```\n",
    "Feu clic amb el ratolí sobre el codi, i polseu simultàniament les tecles *Majúscules* i *Enter*."
   ]
  },
  {
   "cell_type": "code",
   "execution_count": null,
   "metadata": {
    "id": "93xMinIzrohg"
   },
   "outputs": [],
   "source": [
    "from functions import connect\n",
    "connect(\"<adreça bluetooth del NXT>\")  # Executeu, polsant Majúscules + Enter"
   ]
  },
  {
   "cell_type": "markdown",
   "metadata": {
    "id": "ObOMby78tasV"
   },
   "source": [
    "Si apareix un missatge de confirmació, enhorabona, tot funciona. Si no, hi ha algun problema i haureu de cridar el professor de l'aula.\n",
    "\n",
    "Proveu ara unes ordres senzilles per al robot: moure el robot cap avant durant un segon, i parar."
   ]
  },
  {
   "cell_type": "code",
   "execution_count": null,
   "metadata": {
    "id": "qmRGStu6tdxG"
   },
   "outputs": [],
   "source": [
    "from functions import forward, stop # cliqueu ací, i polseu Majúscules + Enter\n",
    "from time import sleep              # per a executar el bloc d'ordres\n",
    "forward()\n",
    "sleep(1)\n",
    "stop()"
   ]
  },
  {
   "cell_type": "markdown",
   "metadata": {
    "id": "WI3mU77ltf_I"
   },
   "source": [
    "Tot correcte? Magnífic! Durant el taller voreu més ordres i aprendreu a combinar-les fent programes més complicats. "
   ]
  },
  {
   "cell_type": "markdown",
   "metadata": {
    "id": "9Dl3W3u0u3d-"
   },
   "source": [
    "# 4. Moviments bàsics del robot\n",
    "\n",
    "El robot té dos motors, que controlen cadascuna de les rodes amb uns engranatges. Estan connectats amb cables al controlador, de manera que les ordres del programa es tradueixen en senyals elèctrics per a fer girar els motors.\n",
    "\n",
    "Els motors es controlen independentment, la qual cosa permet diferents moviments:\n",
    "\n",
    "* si els dos motors giren al mateix temps, el robot avança o retrocedeix\n",
    "* si un motor gira i l'altre no, el robot gira a esquerra o dreta\n",
    "\n",
    "Anem a importar la resta de funcions que controlen el moviment, i provarem a moure el robot en totes les direccions."
   ]
  },
  {
   "cell_type": "code",
   "execution_count": null,
   "metadata": {
    "id": "zyrJE5dntjqf"
   },
   "outputs": [],
   "source": [
    "from functions import left, right, backward"
   ]
  },
  {
   "cell_type": "markdown",
   "metadata": {
    "id": "vTPr_WBJvSVC"
   },
   "source": [
    "## Cap avant\n",
    "\n",
    "Per a fer el robot anar cap avant calen tres ordres:\n",
    "* `forward` posa els motors en marxa per a anar cap avant\n",
    "* `sleep` fa una pausa (per exemple 1 segon) durant la qual el robot es mou\n",
    "* `stop` para els motors"
   ]
  },
  {
   "cell_type": "code",
   "execution_count": null,
   "metadata": {
    "id": "ZU9WY8M_vT8u"
   },
   "outputs": [],
   "source": [
    "forward()\n",
    "sleep(1)\n",
    "stop()"
   ]
  },
  {
   "cell_type": "markdown",
   "metadata": {
    "id": "522kebm1vWHu"
   },
   "source": [
    "## Cap arrere\n",
    "El mateix, canviant la primera ordre."
   ]
  },
  {
   "cell_type": "code",
   "execution_count": null,
   "metadata": {
    "id": "qdSqBtDIvYwG"
   },
   "outputs": [],
   "source": [
    "backward()\n",
    "sleep(1)\n",
    "stop()"
   ]
  },
  {
   "cell_type": "markdown",
   "metadata": {
    "id": "3T5nI9Wovame"
   },
   "source": [
    "## Esquerra\n",
    "Idem."
   ]
  },
  {
   "cell_type": "code",
   "execution_count": null,
   "metadata": {
    "id": "T8gbrhWAvdab"
   },
   "outputs": [],
   "source": [
    "left()\n",
    "sleep(1)\n",
    "stop()"
   ]
  },
  {
   "cell_type": "markdown",
   "metadata": {
    "id": "XSZIRNqevfkS"
   },
   "source": [
    "## Dreta\n",
    "De la mateixa manera, *of course*."
   ]
  },
  {
   "cell_type": "code",
   "execution_count": null,
   "metadata": {
    "id": "JLmJICq9vhti"
   },
   "outputs": [],
   "source": [
    "right()\n",
    "sleep(1)\n",
    "stop()"
   ]
  },
  {
   "cell_type": "markdown",
   "metadata": {
    "id": "w_I0XoDPvjSq"
   },
   "source": [
    "Tot correcte? Fàcil, no? Anem a comprovar-ho amb el primer exercici."
   ]
  },
  {
   "cell_type": "markdown",
   "metadata": {
    "id": "v2lSOwYov6-y"
   },
   "source": [
    "# 5. Exercici: fer un quadrat\n",
    "\n",
    "<img src=\"https://github.com/RobInLabUJI/NXT-Colab/raw/main/img/bart-simpson-chalkboard.jpg\" align=\"right\" width=250>\n",
    "A partir de les instruccions dels moviments bàsics, heu de fer un programa per a que el robot avance i gire 90 graus, de manera de faça una trajectòria quadrada.\n",
    "\n",
    "L'estratègia és simple: repetiu quatre vegades el codi necessari per a fer avançar el robot un temps, i girar (a l'esquerra o a la dreta)."
   ]
  },
  {
   "cell_type": "markdown",
   "metadata": {
    "id": "ziSCAfmuwedi"
   },
   "source": [
    "## Esquelet del programa\n",
    "Substituïu els comentaris per les ordres necessàries:"
   ]
  },
  {
   "cell_type": "code",
   "execution_count": null,
   "metadata": {
    "id": "DGHNoLd4vmFa"
   },
   "outputs": [],
   "source": [
    "# avançar\n",
    "# girar\n",
    "\n",
    "# avançar\n",
    "# girar\n",
    "\n",
    "# avançar\n",
    "# girar\n",
    "\n",
    "# avançar\n",
    "# girar\n",
    "\n",
    "# parar"
   ]
  },
  {
   "cell_type": "markdown",
   "metadata": {
    "id": "3xLUBC-6woQC"
   },
   "source": [
    "Ha funcionat a la primera? Fer un quadrat perfecte no és fàcil, i el més normal és que calga ajustar un parell de coses:\n",
    "\n",
    "* el gir de 90 graus: si el robot gira massa, heu de disminuir el temps del `sleep`; si gira massa poc, augmentar-lo (podeu posar decimals)\n",
    "\n",
    "* si no va recte: és normal que un dels motors gire una mica més ràpid que l'altre; podeu ajustar les velocitats de cada motor individualment entre 0 (mínim) i 100 (màxim), per exemple:\n",
    "\n",
    "    `forward(speed_B=90,speed_C=75)`\n",
    "    \n",
    "Canvieu els valors i torneu a provar fins aconseguir un quadrat decent (la perfecció és impossible)."
   ]
  },
  {
   "cell_type": "markdown",
   "metadata": {
    "id": "Qn9xCbmDwusi"
   },
   "source": [
    "## Versió pro\n",
    "\n",
    "Els llenguatges de programació tenen estructures per a repetir blocs d'instruccions sense haver d'escriure-les tantes vegades. És el que s'anomena **bucle** o, en anglès, [*for loop*](https://en.wikipedia.org/wiki/For_loop).\n",
    "\n",
    "En Python, un bucle per a repetir un bloc d'instruccions quatre vegades s'escriu així:"
   ]
  },
  {
   "cell_type": "code",
   "execution_count": null,
   "metadata": {
    "id": "t5mC4ZHRwqh7"
   },
   "outputs": [],
   "source": [
    "for i in range(4):\n",
    "    # avançar\n",
    "    # girar\n",
    "\n",
    "# parar"
   ]
  },
  {
   "cell_type": "markdown",
   "metadata": {
    "id": "FnXlAvLww2sb"
   },
   "source": [
    "És important que les instruccions de *dins* del bucle estiguen desplaçades cap a la dreta, és a dir [**indentades**](https://es.wikipedia.org/wiki/Indentaci%C3%B3n).\n",
    "\n",
    "Substituïu els comentaris per les instruccions necessàries i proveu-ho."
   ]
  },
  {
   "cell_type": "markdown",
   "metadata": {
    "id": "MPhKJHP4xQ7X"
   },
   "source": [
    "# 6. Sensors\n",
    "\n",
    "Hi ha quatre sensors diferents montats i connectats al robot:\n",
    "\n",
    "[<img src=\"https://github.com/RobInLabUJI/NXT-Colab/raw/main/img/sensors.jpg\" width=400>](http://www.legoengineering.com/nxt-sensors/)\n",
    "\n",
    "Anem a comprovar el funcionament de cadascun d'ells.\n",
    "\n",
    "Primer, necessitarem algunes funcions noves."
   ]
  },
  {
   "cell_type": "code",
   "execution_count": null,
   "metadata": {
    "id": "I31pr-Lqw8Gr"
   },
   "outputs": [],
   "source": [
    "from functions import touch, light, sound, ultrasonic"
   ]
  },
  {
   "cell_type": "markdown",
   "metadata": {
    "id": "xyCOzo18xtjP"
   },
   "source": [
    "## Sensor de tacte\n",
    "\n",
    "És un polsador, que segons estiga polsat o no, donarà un valor vertader (`True`) o fals (`False`). Per a comprovar-ho, proveu a executar vàries vegades la funció següent, amb el sensor activat o sense activar-lo."
   ]
  },
  {
   "cell_type": "code",
   "execution_count": null,
   "metadata": {
    "id": "anaLWzZWxv8J"
   },
   "outputs": [],
   "source": [
    "touch() # Per a executar repetidament, useu Ctrl + Enter"
   ]
  },
  {
   "cell_type": "markdown",
   "metadata": {
    "id": "8cJvYZfLxyY3"
   },
   "source": [
    "## Sensor de llum\n",
    "\n",
    "Està format per un transistor que emet llum, i un diode que detecta la llum reflectida per la superfície. Dóna un valor numèric, més alt com més quantitat de llum, és a dir, valors baixos (pròxims a 0) per a les superfícies fosques, i valor alts (pròxims a 100) per a les clares."
   ]
  },
  {
   "cell_type": "code",
   "execution_count": null,
   "metadata": {
    "id": "XbBVn61Jx0Dh"
   },
   "outputs": [],
   "source": [
    "light() # Per a executar repetidament, useu Ctrl + Enter"
   ]
  },
  {
   "cell_type": "markdown",
   "metadata": {
    "id": "UTWqpte9x1zK"
   },
   "source": [
    "## Sensor de so (micròfon)\n",
    "\n",
    "Permet mesurar el so ambient en decibelis, tornant un valor en percentatge, més alt com més fort és el so. Per exemple:\n",
    "\n",
    "* 4-5% és com una sala d'estar en silenci\n",
    "* 5-10% seria algú parlant a certa distància\n",
    "* 10-30% és una conversa normal a prop del sensor o música reproduïda en un nivell normal\n",
    "* 30-100% són gent cridant o la música que s'està reproduint a un volum alt\n"
   ]
  },
  {
   "cell_type": "code",
   "execution_count": null,
   "metadata": {
    "id": "WsgeHHoyx4SY"
   },
   "outputs": [],
   "source": [
    "sound() # Per a executar repetidament, useu Ctrl + Enter"
   ]
  },
  {
   "cell_type": "markdown",
   "metadata": {
    "id": "8pQNUZDpx6K7"
   },
   "source": [
    "## Sensor ultrasònic\n",
    "\n",
    "Aquest sensor funciona emetent ultrasons, i medint el temps que tarda l'eco del senyal en tornar al sensor. D'eixa manera permet calcular la distància (en cm) a un obstacle que estiga al davant. És el mateix [principi que usen els ratpenats](https://ca.wikipedia.org/wiki/Ratpenat#Ecolocalitzaci.C3.B3)."
   ]
  },
  {
   "cell_type": "code",
   "execution_count": null,
   "metadata": {
    "id": "MwSHfYZsx_Oc"
   },
   "outputs": [],
   "source": [
    "ultrasonic() # Per a executar repetidament, useu Ctrl + Enter"
   ]
  },
  {
   "cell_type": "markdown",
   "metadata": {
    "id": "y9lx19EoyBQL"
   },
   "source": [
    "## Comprovació dels sensors\n",
    "\n",
    "Per a finalitzar, la següent funció mostra repetidament en pantalla els valors de tots els sensors, per a comprovar fàcilment el funcionament correcte de tots ells. Per a parar l'execució, has de seleccionar l'opció `Interrumpir entorno de ejecucion` del menú de Google Colab."
   ]
  },
  {
   "cell_type": "code",
   "execution_count": null,
   "metadata": {
    "id": "rOowBUplyOqq"
   },
   "outputs": [],
   "source": [
    "from functions import test_sensors\n",
    "\n",
    "test_sensors()"
   ]
  },
  {
   "cell_type": "markdown",
   "metadata": {
    "id": "aJ4JWhO4ySss"
   },
   "source": [
    "Ara ja podem fer nous programes amb els sensors."
   ]
  },
  {
   "cell_type": "markdown",
   "metadata": {
    "id": "r0zoHbG8ynj8"
   },
   "source": [
    "# 7. Sensor de tacte\n",
    "\n",
    "<img src=\"https://github.com/RobInLabUJI/NXT-Colab/raw/main/img/If-Then-Else-diagram.svg.png\" align=\"right\">\n",
    "Els sensors permeten al robot reaccionar a les condicions de l'entorn, i executar ordres diferents en cada cas.\n",
    "\n",
    "Per a fer això, a més del sensor, es necessita una instrucció del llenguatge de programació que permet triar entre dos situacions, anomenada [condicional](https://en.wikipedia.org/wiki/Conditional_(computer_programming&#41;).\n",
    "\n",
    "En Python s'escriu així:\n",
    "\n",
    "```python\n",
    "if condition:\n",
    "    one_statement\n",
    "else:\n",
    "    another_statement\n",
    "```\n",
    "\n",
    "Aleshores, si la condició es verdadera, s'executa la primera ordre, i si no, la segona.\n",
    "\n",
    "Vegem un exemple."
   ]
  },
  {
   "cell_type": "markdown",
   "metadata": {
    "id": "NqRROwlyzBEM"
   },
   "source": [
    "## Alternatives\n",
    "\n",
    "El codi següent comprova el sensor de tacte:\n",
    "\n",
    "* si està polsat, el robot va cap enrere\n",
    "* si no està polsat, va cap avant\n",
    "\n",
    "Proveu-lo amb `Ctrl+Enter` mentre polseu (o no) el sensor de tacte."
   ]
  },
  {
   "cell_type": "code",
   "execution_count": null,
   "metadata": {
    "id": "SZcHavtTyV12"
   },
   "outputs": [],
   "source": [
    "if touch(): \n",
    "    backward()\n",
    "    sleep(0.2)\n",
    "    stop()\n",
    "else:\n",
    "    forward()\n",
    "    sleep(0.2)\n",
    "    stop()"
   ]
  },
  {
   "cell_type": "markdown",
   "metadata": {
    "id": "OY4LP3q3zDkg"
   },
   "source": [
    "<img src=\"https://github.com/RobInLabUJI/NXT-Colab/raw/main/img/While-loop-diagram.svg.png\" align=\"right\">\n",
    "\n",
    "## Repetició condicional\n",
    "\n",
    "Imagineu que volem fer un programa per a que el robot avance mentre el sensor de tacte no detecte cap obstacle. Hauríem d'estar comprovant el sensor repetidament fins el moment en què es detectara el contacte.\n",
    "\n",
    "Podríem utilitzar el bucle `for` amb el condicional `if`, però els llenguatges de programació defineixen una estructura equivalent, anomenada **bucle condicional**, o [*while loop*](https://en.wikipedia.org/wiki/While_loop).\n",
    "\n",
    "En Python s'escriu així:\n",
    "\n",
    "```python\n",
    "while condition:\n",
    "    statement\n",
    "```\n",
    "\n",
    "Aleshores, l'ordre s'executa repetidament, mentre la condició siga verdadera.\n",
    "\n",
    "El programa quedaria així:"
   ]
  },
  {
   "cell_type": "code",
   "execution_count": null,
   "metadata": {
    "id": "pCbZq2cCzMZu"
   },
   "outputs": [],
   "source": [
    "while not touch():\n",
    "    forward()\n",
    "stop()"
   ]
  },
  {
   "cell_type": "markdown",
   "metadata": {
    "id": "MdcQS8gTzOOM"
   },
   "source": [
    "Sembla complicat? Les ordres que li esteu donant al robot són molt semblants a les del llenguatge natural, només que en anglès. Si no vos convenç, [mireu la traducció](https://translate.google.com/#en/ca/while%20not%20touch%28%29%3A%0A%20%20%20%20forward%28%29%0Astop%28%29) :-)"
   ]
  },
  {
   "cell_type": "markdown",
   "metadata": {
    "id": "SlwELyfGzbGd"
   },
   "source": [
    "## Recapitulem\n",
    "\n",
    "Ara podeu respirar una mica: acabeu de vore dos de les instruccions més importants dels llenguatges de programació:\n",
    "\n",
    "* `if .. else`: permet executar dos ordres diferents segons una condició siga verdadera o falsa\n",
    "* `while`: permet repetir una ordre mentre una condició siga verdadera\n",
    "\n",
    "En el següent exercici usarem eixes instruccions, i tot el que hem aprés abans, per a moure el robot de forma autònoma, el que en robòtica s'anomena [*navegació*](https://en.wikipedia.org/wiki/Mobile_robot#Mobile_robot_navigation)."
   ]
  },
  {
   "cell_type": "markdown",
   "metadata": {
    "id": "80O7EwLSz6cZ"
   },
   "source": [
    "# 8. Exercici de navegació\n",
    "\n",
    "[<span title=\"Roomba navigating around furniture\"><img src=\"https://github.com/RobInLabUJI/NXT-Colab/raw/main/img/roomba.jpg\" align=\"right\" width=200></span>](https://www.youtube.com/watch?v=g3Qk2y38LZQ)\n",
    "Un robot mòbil com el Roomba de la imatge ha d'evitar xocar amb els obstacles del seu entorn, i si arriba a col·lisionar, ha de reaccionar per a no fer, ni fer-se mal.\n",
    "\n",
    "Amb el sensor de tacte no podem evitar el xoc, però si detectar-lo un cop es produeix, i reaccionar.\n",
    "\n",
    "L'objectiu d'aquest exercici és programar el següent comportament en el robot:\n",
    "\n",
    "* mentre no detecte res, el robot va cap avant\n",
    "* després de xocar, el robot anirà cap enrere i girarà\n"
   ]
  },
  {
   "cell_type": "markdown",
   "metadata": {
    "id": "KMS0-3Mp0PE9"
   },
   "source": [
    "## Versió 1.0\n",
    "\n",
    "Utilitzeu el codi de l'exemple anterior del bucle `while`: només heu d'afegir que, després del xoc, el robot vaja cap enrere, gire una mica (cap al vostre costat preferit), i pare."
   ]
  },
  {
   "cell_type": "code",
   "execution_count": null,
   "metadata": {
    "id": "o8eN8rvrzQRd"
   },
   "outputs": [],
   "source": [
    "while ___:\n",
    "    ___\n",
    "___"
   ]
  },
  {
   "cell_type": "markdown",
   "metadata": {
    "id": "nyngsmE20RyJ"
   },
   "source": [
    "## Versió 2.0\n",
    "\n",
    "Se suposa que la maniobra del robot li permet evitar l'obstacle, i per tant tornar a anar cap avant. Com ho podem programar?\n",
    "\n",
    "Cal **repetir** tot el bloc d'instruccions del comportament, incloent el bucle. Cap problema, els llenguatges de programació permeten posar un bucle dins d'un altre, el que s'anomena **bucles anidats**.\n",
    "\n",
    "Utilitzeu un bucle `for` (com el que vam vore a l'exercici del quadrat) per a repetir 5 vegades el codi anterior."
   ]
  },
  {
   "cell_type": "code",
   "execution_count": null,
   "metadata": {
    "id": "X5X9oh4J0biP"
   },
   "outputs": [],
   "source": [
    "for ___:\n",
    "    while ___:\n",
    "        ___\n",
    "    ___"
   ]
  },
  {
   "cell_type": "markdown",
   "metadata": {
    "id": "zIroMfpQ0iH8"
   },
   "source": [
    "## Versió 3.0\n",
    "\n",
    "I si en lloc de repetir 5, 10 o 20 vegades, volem que el robot continue fins que el parem nosaltres? Ho podem fer amb un **bucle infinit**, i indicarem al programa que pare amb el menú `interrumpir ejecución`.\n",
    "\n",
    "En Python, un bucle infinit s'escriu així:\n",
    "```python\n",
    "while True:\n",
    "    ___\n",
    "```\n",
    "\n",
    "Quan s'interromp el programa, s'abandona la instrucció que s'estava executant en eixe moment, i cal parar el robot. En Python, aquest procés s'anomena **excepció** i es gestiona d'aquesta manera:\n",
    "```python\n",
    "try:\n",
    "    while True:\n",
    "        ___    # ací anirà el comportament\n",
    "except KeyboardInterrupt:\n",
    "    ___        # ací pararem el robot\n",
    "```\n",
    "Utilitzeu un bucle infinit per a repetir el comportament del robot fins que el pareu."
   ]
  },
  {
   "cell_type": "code",
   "execution_count": null,
   "metadata": {
    "id": "kOBJp7w10rGG"
   },
   "outputs": [],
   "source": [
    "try:\n",
    "    while True:\n",
    "        while ___:\n",
    "            ___\n",
    "        ___\n",
    "except KeyboardInterrupt:\n",
    "    stop() "
   ]
  },
  {
   "cell_type": "markdown",
   "metadata": {
    "id": "sWrag6NR0_Xy"
   },
   "source": [
    "## Versió 4.0\n",
    "\n",
    "El comportament del robot, girant sempre cap al mateix costat, és una mica previsible, no vos sembla?\n",
    "\n",
    "Anem a introduir un component d'atzar: en els llenguatges de programació, existeixen els [**generadors de números aleatoris**](https://en.wikipedia.org/wiki/Random_number_generation), que són com els *daus* dels ordinadors.\n",
    "\n",
    "Executeu el següent codi vàries vegades amb `Ctrl+Enter` i comproveu els resultats."
   ]
  },
  {
   "cell_type": "code",
   "execution_count": null,
   "metadata": {
    "id": "ev3LWKep1AA0"
   },
   "outputs": [],
   "source": [
    "from random import random\n",
    "random()"
   ]
  },
  {
   "cell_type": "markdown",
   "metadata": {
    "id": "6w628TLH1EZp"
   },
   "source": [
    "La funció `random` és com llançar un dau, però en compte de donar una valor d'1 a 6, dóna un número real entre 0 i 1.\n",
    "\n",
    "Aleshores, el robot pot utilitzar eixe valor per a decidir si gira a esquerra o dreta. Com? Doncs si el valor és major que 0.5, gira a un costat, i si no, cap a l'altre. Aleshores, girarà a l'atzar, amb una probabilitat del 50% per a cada costat.\n",
    "\n",
    "Incorporeu la decisió a l'atzar per a girar al codi de la versió anterior: "
   ]
  },
  {
   "cell_type": "code",
   "execution_count": null,
   "metadata": {
    "id": "FGfLK1ev1IDF"
   },
   "outputs": [],
   "source": [
    "try:\n",
    "    while True:\n",
    "        while ___:\n",
    "            ___\n",
    "        if ___:\n",
    "            ___\n",
    "        else:\n",
    "            ___\n",
    "except KeyboardInterrupt:\n",
    "    stop() "
   ]
  },
  {
   "cell_type": "markdown",
   "metadata": {
    "id": "vSBwP8Bh1K0C"
   },
   "source": [
    "## Recapitulem\n",
    "\n",
    "Tot el que hem vist en aquest exercici:\n",
    "\n",
    "* bucles anidats\n",
    "* excepcions\n",
    "* números aleatoris\n",
    "\n",
    "No està malament, quasi hem vist el temari d'un primer curs de programació, i això només amb un sensor!\n",
    "\n",
    "Passem a vore doncs el següent sensor."
   ]
  },
  {
   "cell_type": "markdown",
   "metadata": {
    "id": "Pd0gcHj66Kf1"
   },
   "source": [
    "[<img src=\"https://github.com/RobInLabUJI/NXT-Colab/raw/main/img/nao.jpg\" align=\"right\" width=200>](https://www.softbankrobotics.com/emea/en/nao)\n",
    "\n",
    "# 9. Sensor de so (micròfon)\n",
    "\n",
    "El micròfon del robot detecta el soroll ambiental. No sap reconèixer paraules, però si pot reaccionar a una palmada, o un crit. Altres robots més sofisticats com el de la imatge sí que poden parlar i reconèixer el llenguatge.\n",
    "\n",
    "En aquesta secció analitzarem els valors del sensor, i l'usarem per a controlar el robot."
   ]
  },
  {
   "cell_type": "markdown",
   "metadata": {
    "id": "757W-ME-6oX4"
   },
   "source": [
    "## Anàlisi del so\n",
    "\n",
    "Si recordeu un exemple anterior, la funció `sound` ens retorna un valor entre 0 i 100, segons la intensitat del so. Anem a provar-la de nou, però representant el seu valor en una gràfica.\n",
    "\n",
    "Per a això, el que farem és recollir dades: llegirem els valors de la funció vàries vegades i els guardarem en la memòria de l'ordinador, per a després representar gràficament els valors.\n",
    "\n",
    "Per a guardar dades en la memòria, els llenguatges de programació fan servir [**variables**](https://es.wikipedia.org/wiki/Variable_%28programaci%C3%B3n%29).\n",
    "\n",
    "En el següent exemple, usem una variable anomenada `data`, que contindrà la llista de valors que llegim del sensor. Inicialment estarà buida, i dins del bucle anirem afegint valors."
   ]
  },
  {
   "cell_type": "code",
   "execution_count": null,
   "metadata": {
    "id": "Kfkch3Hl1NpM"
   },
   "outputs": [],
   "source": [
    "data = []                 # executeu este codi mentre parleu al micròfon\n",
    "for i in range(100):\n",
    "    data.append(sound())"
   ]
  },
  {
   "cell_type": "markdown",
   "metadata": {
    "id": "hm70EybW61PV"
   },
   "source": [
    "Ara representarem gràficament els valors llegits."
   ]
  },
  {
   "cell_type": "code",
   "execution_count": null,
   "metadata": {
    "id": "Pj5qREZW623A"
   },
   "outputs": [],
   "source": [
    "from functions import plot\n",
    "plot(data)"
   ]
  },
  {
   "cell_type": "markdown",
   "metadata": {
    "id": "o8YF8FwG64RS"
   },
   "source": [
    "Normalment voreu valors que pugen i baixen, entre 0 i 100, segons parleu menys o més fort. Podeu provar també a donar palmades.\n",
    "\n",
    "Aleshores, per a controlar el robot, podem fer que reaccione quan el valor del so siga més alt d'un determinat llindar."
   ]
  },
  {
   "cell_type": "markdown",
   "metadata": {
    "id": "4jnyOzPJ6-e7"
   },
   "source": [
    "## Control a distància per so\n",
    "\n",
    "Feu un programa per a que el robot vaja recte mentre no li digueu que pare, és a dir, mentre no detecte un so alt."
   ]
  },
  {
   "cell_type": "code",
   "execution_count": null,
   "metadata": {
    "id": "MwhWQNRv68Hd"
   },
   "outputs": [],
   "source": [
    "while ___:\n",
    "    ___\n",
    "___"
   ]
  },
  {
   "cell_type": "markdown",
   "metadata": {
    "id": "7iE9w-F37Ayb"
   },
   "source": [
    "## Navegació *controlada*\n",
    "\n",
    "Modifiqueu el programa de navegació, de manera que, en lloc de girar quan el robot detecta un contacte, ho faça quan detecta un so, per exemple una palmada."
   ]
  },
  {
   "cell_type": "code",
   "execution_count": null,
   "metadata": {
    "id": "ynderThq7C1s"
   },
   "outputs": [],
   "source": [
    "from functions import backward, left, right\n",
    "from time import sleep\n",
    "from random import random\n",
    "\n",
    "try:\n",
    "    while True:\n",
    "        while ___:\n",
    "            ___\n",
    "        ___\n",
    "        if ___:\n",
    "            ___\n",
    "        else:\n",
    "            ___\n",
    "        ___\n",
    "except KeyboardInterrupt:\n",
    "    stop()"
   ]
  },
  {
   "cell_type": "markdown",
   "metadata": {
    "id": "RNU8ggw_7HXo"
   },
   "source": [
    "### Usar dos sensors al mateix temps\n",
    "\n",
    "En lloc de substiuir la condició de contacte per la de so, també podem *afegir* eixa segona condició a la primera. Els llenguatges de programació poden fer **operacions lògiques** per a combinar condicions. No és tan complicat com pareix, per exemple, les dos condicions s'escriurien així:\n",
    "\n",
    "    mentre el so siga menor que 50 i no hi haja contacte\n",
    "    \n",
    "Per a programar-ho en Python, només cal saber que \"i\" en anglès s'escriu \"and\" ;-)"
   ]
  },
  {
   "cell_type": "code",
   "execution_count": null,
   "metadata": {
    "id": "gBv5v8bj7Ja0"
   },
   "outputs": [],
   "source": [
    "from functions import backward, left, right, touch\n",
    "from time import sleep\n",
    "from random import random\n",
    "\n",
    "try:\n",
    "    while True:\n",
    "        while ___ and ___:\n",
    "            ___\n",
    "        ___\n",
    "        if ___:\n",
    "            ___\n",
    "        else:\n",
    "            ___\n",
    "        ___\n",
    "except KeyboardInterrupt:\n",
    "    stop()"
   ]
  },
  {
   "cell_type": "markdown",
   "metadata": {
    "id": "Vz6CegYB7N6D"
   },
   "source": [
    "### Indicar la direcció\n",
    "\n",
    "Controlar el robot, per a que després gire a l'atzar, no queda massa bé. Seria millor que poguérem controlar la direcció del gir amb el so. Recordeu que el robot no reconeix els sons, només els canvis de volum.\n",
    "\n",
    "Com podríeu indicar-li la direcció de gir? Tal vegada, en compte d'un número a l'atzar, podríeu comprovar el valor del sensor de so un segon cop. Aleshores, amb una sola palmada, el robot giraria cap a un costat, i amb dos, cap a l'altre."
   ]
  },
  {
   "cell_type": "markdown",
   "metadata": {
    "id": "4GMRQfDC7gvK"
   },
   "source": [
    "## El gran repte\n",
    "\n",
    "Podeu fer una versió completa amb tot?\n",
    "\n",
    "* el robot va recte mentre no hi haja contacte ni detecte cap so alt\n",
    "* si detecta un contacte, va cap arrere i gira a l'atzar a esquerra o dreta\n",
    "* però si el que ha detectat és el so, va cap arrere, i si detecta un segon so, gira a esquerra i si no a dreta\n",
    "\n",
    "Complicat? No tant, però cal tindre les idees clares!"
   ]
  },
  {
   "cell_type": "code",
   "execution_count": null,
   "metadata": {
    "id": "VXiRzssD7UfE"
   },
   "outputs": [],
   "source": [
    "from functions import backward, left, right, touch\n",
    "from time import sleep\n",
    "from random import random\n",
    "\n",
    "try:\n",
    "    while True:\n",
    "        while ___:\n",
    "            ___\n",
    "        if ___:\n",
    "            ___\n",
    "            if ___:\n",
    "                ___\n",
    "            else:\n",
    "                ___\n",
    "            ___\n",
    "        else:\n",
    "            ___\n",
    "            if ___:\n",
    "                ___\n",
    "            else:\n",
    "                ___\n",
    "            ___\n",
    "except KeyboardInterrupt:\n",
    "    stop()"
   ]
  },
  {
   "cell_type": "markdown",
   "metadata": {
    "id": "K-dmScuJ7kfx"
   },
   "source": [
    "## Recapitulem\n",
    "\n",
    "Si heu arribat fins ací fent totes les variants, enhorabona! Comenceu a controlar de debó la programació. Si no, no patiu, açò no s'apren en dos hores!\n",
    "\n",
    "En aquesta pàgina hem donat una ullada a les variables i a les operacions lògiques, i hem anat anidant cada cop més bucles i condicionals. Així és la programació!\n",
    "\n",
    "I només hem vist la meitat de sensors! Passem a vore doncs el tercer.\n"
   ]
  },
  {
   "cell_type": "markdown",
   "metadata": {
    "id": "YnSm8G3G8c4q"
   },
   "source": [
    "# 10. Sensor de llum\n",
    "\n",
    "<img src=\"https://github.com/RobInLabUJI/NXT-Colab/raw/main/img/line_follower.jpg\" align=\"right\">\n",
    "Aquest sensor té dos parts:\n",
    "\n",
    "* un diode emissor de llum roja\n",
    "* un transistor detector de llum, que dóna un valor proporcional a la intensitat de llum reflectida per la superfície\n",
    "\n",
    "Utilitzarem el sensor per a detectar una línia negra, i controlar el robot per a seguir la trajectòria. \n"
   ]
  },
  {
   "cell_type": "markdown",
   "metadata": {
    "id": "KtJG7Ixd8rky"
   },
   "source": [
    "## Gràfica del sensor\n",
    "\n",
    "Per a analitzar els valors del sensor, farem una gràfica, però en aquest mentre el robot es mou.\n",
    "\n",
    "Heu de col·locar el robot perpendicularment a la línia negra, de manera que el codi següent farà avançar el robot uns segons per a travessar-la, llegint els valos abans de la línia, sobre ella, i després de la línia."
   ]
  },
  {
   "cell_type": "code",
   "execution_count": null,
   "metadata": {
    "id": "MiQRX21r7eg5"
   },
   "outputs": [],
   "source": [
    "forward()\n",
    "data = []\n",
    "for i in range(25):\n",
    "    data.append(light())\n",
    "stop()"
   ]
  },
  {
   "cell_type": "markdown",
   "metadata": {
    "id": "K65PM-Fy8tkm"
   },
   "source": [
    "A continuació representeu la gràfica. Hauríeu d'obtindre una mena de \"V\" perquè els valors alts corresponen a la superfície blanca (que reflexa més llum) i els baixos a la negra (que en reflexa menys)."
   ]
  },
  {
   "cell_type": "code",
   "execution_count": null,
   "metadata": {
    "id": "5FOOPT5q8vNk"
   },
   "outputs": [],
   "source": [
    "from functions import plot\n",
    "plot(data)"
   ]
  },
  {
   "cell_type": "markdown",
   "metadata": {
    "id": "WaXXg83P8xHk"
   },
   "source": [
    "Heu de seleccionar un valor intermedi per a distingir entre blanc i negre. Serà el **llindar** que usareu: \n",
    "\n",
    "* si la lectura està per damunt, el sensor està detectant blanc\n",
    "* si està per baix, negre."
   ]
  },
  {
   "cell_type": "markdown",
   "metadata": {
    "id": "1JeEcz1H80_J"
   },
   "source": [
    "## Versió 1.0 de Seguiment de Línia\n",
    "\n",
    "<img src=\"https://github.com/RobInLabUJI/NXT-Colab/raw/main/img/line_circuit.jpg\" width=240 align=\"right\">\n",
    "\n",
    "Per a seguir la línia, la idea és senzilla:\n",
    "\n",
    "* el robot va pel costat de la línia, per la part de dins del circuit tancat\n",
    "* si el sensor detecta blanc, el robot va recte \n",
    "* si detecta negre, el robot gira per rectificar la seua trajectòria \n",
    "\n",
    "Depenent del sentit en que està recorrent el circuit, haurà de rectificar girant a l'esquerra o a la dreta."
   ]
  },
  {
   "cell_type": "code",
   "execution_count": null,
   "metadata": {
    "id": "5i_E12XZ8z4v"
   },
   "outputs": [],
   "source": [
    "from functions import left, right"
   ]
  },
  {
   "cell_type": "code",
   "execution_count": null,
   "metadata": {
    "id": "CNe9zpsK8-CR"
   },
   "outputs": [],
   "source": [
    "try:\n",
    "    while True:\n",
    "        if ___:\n",
    "            ___\n",
    "        else:\n",
    "            ___\n",
    "except KeyboardInterrupt:\n",
    "    stop() "
   ]
  },
  {
   "cell_type": "markdown",
   "metadata": {
    "id": "MC8CTRIG8_iZ"
   },
   "source": [
    "## Versió 2.0\n",
    "\n",
    "Si el robot se n'ix per la curva, cal fer un gir més pronunciat. Les funcions que hem utilitzat fins ara giren una roda mentre l'altra està parada. Es pot girar més si, en lloc d'estar parada, l'altra roda gira en sentit contrari. Per a fer-ho, useu les següents funcions:"
   ]
  },
  {
   "cell_type": "code",
   "execution_count": null,
   "metadata": {
    "id": "7YPaq9qe9Bi8"
   },
   "outputs": [],
   "source": [
    "from functions import left_sharp, right_sharp"
   ]
  },
  {
   "cell_type": "code",
   "execution_count": null,
   "metadata": {
    "id": "gYfsTjY19KoQ"
   },
   "outputs": [],
   "source": [
    "try:\n",
    "    while True:\n",
    "        if ___:\n",
    "            ___\n",
    "        else:\n",
    "            ___\n",
    "except KeyboardInterrupt:\n",
    "    stop() "
   ]
  },
  {
   "cell_type": "markdown",
   "metadata": {
    "id": "iYlZXOkY9MNv"
   },
   "source": [
    "## Versió 3.0\n",
    "\n",
    "En general, pot haver curves a esquerra i dreta. Aleshores, el mètode anterior no és suficient. Una solució seria usar dos sensors, un per cada costat de la línia, però només en tenim un per robot.\n",
    "\n",
    "Una altra solució és fer que el sensor vaja per la vora de la línia, de manera que la superfície serà meitat negra i meitat blanca. Si definim **dos llindars**, aleshores:\n",
    "\n",
    "* si el sensor està per baix dels dos llindars, és negre\n",
    "* si està per dalt dels dos, és blanc\n",
    "* si està enmig, és la vora de la línia\n",
    "\n",
    "El robot anirà recte quan vaja per la vora de la línia, i pot rectificar a esquerra en un cas, i a dreta en l'altre."
   ]
  },
  {
   "cell_type": "code",
   "execution_count": null,
   "metadata": {
    "id": "ZX1n2-mR9QJz"
   },
   "outputs": [],
   "source": [
    "try:\n",
    "    while True:\n",
    "        if ___:\n",
    "            ___\n",
    "        else:\n",
    "            if ___:\n",
    "                ___\n",
    "            else:\n",
    "                ___\n",
    "except KeyboardInterrupt:\n",
    "    stop() "
   ]
  },
  {
   "cell_type": "markdown",
   "metadata": {
    "id": "Om5wzBNb9R5H"
   },
   "source": [
    "## Versió 4.0\n",
    "\n",
    "Si el robot oscil·la massa, fins i tot pot travessar la línia i desorientar-se completament.\n",
    "\n",
    "La solució és disminuir la velocitat, indicant-ho a les funcions de moviment, per exemple:\n",
    "\n",
    "```python\n",
    "forward(speed=65)\n",
    "```\n",
    "\n",
    "El valor per defecte és 100, el màxim, i el mínim és 0."
   ]
  },
  {
   "cell_type": "code",
   "execution_count": null,
   "metadata": {
    "id": "zE5FojtX9TmZ"
   },
   "outputs": [],
   "source": [
    "try:\n",
    "    while True:\n",
    "        if ___:\n",
    "            ___\n",
    "        else:\n",
    "            if ___:\n",
    "                ___\n",
    "            else:\n",
    "                ___\n",
    "except KeyboardInterrupt:\n",
    "    stop() "
   ]
  },
  {
   "cell_type": "markdown",
   "metadata": {
    "id": "y7jdPI4Q9Vpo"
   },
   "source": [
    "## Recapitulem\n",
    "\n",
    "En aquesta pàgina no hem vist conceptes nous, però hem aplicat el que ja sabíem al problema de seguir la línia.\n",
    "\n",
    "Passem a vore el darrer sensor."
   ]
  },
  {
   "cell_type": "markdown",
   "metadata": {
    "id": "I9hnHrKb9wER"
   },
   "source": [
    "# 11. Sensor ultrasònic\n",
    "\n",
    "[<img src=\"https://github.com/RobInLabUJI/NXT-Colab/raw/main/img/ultrasound.jpg\" align=\"right\">](https://www.teachengineering.org/lessons/view/umo_sensorswork_lesson06)\n",
    "Aquest sensor també té dos parts:\n",
    "\n",
    "* un emissor d'ultrasons\n",
    "* un receptor d'ultrasons\n",
    "\n",
    "El sensor emet un senyal, i compta el temps fins que detecta l'eco del senyal emés. Com la velocitat del so és coneguda, es pot calcular la distància a la que està l'objecte on ha rebotat l'eco."
   ]
  },
  {
   "cell_type": "markdown",
   "metadata": {
    "id": "DG3x2ANH-EGp"
   },
   "source": [
    "## Gràfica del sensor\n",
    "\n",
    "Per a analitzar els valors del sensor, farem també una gràfica: col·locareu el robot a una certa distància d'un obstacle, i el fareu avançar mentre recolleix dades."
   ]
  },
  {
   "cell_type": "code",
   "execution_count": null,
   "metadata": {
    "id": "Bb262zVb9YMf"
   },
   "outputs": [],
   "source": [
    "forward(speed_B=60,speed_C=70)\n",
    "data = []\n",
    "for i in range(30):\n",
    "    data.append(ultrasonic())\n",
    "stop()"
   ]
  },
  {
   "cell_type": "markdown",
   "metadata": {
    "id": "7nTnetn7-Gh4"
   },
   "source": [
    "A continuació representeu la gràfica. Hauríeu d'obtindre una línia descendent, perquè la distància a l'obstacle disminueix a mesura que el robot avança. No obstant aixó, és normal que hi haja valors que pugen, per interferències, o perquè l'eco no siga prou estable."
   ]
  },
  {
   "cell_type": "code",
   "execution_count": null,
   "metadata": {
    "id": "CFqWz2i7-NwG"
   },
   "outputs": [],
   "source": [
    "from functions import plot\n",
    "plot(data)"
   ]
  },
  {
   "cell_type": "markdown",
   "metadata": {
    "id": "pAqzaNyx-PNw"
   },
   "source": [
    "## Evitar obstacles\n",
    "\n",
    "[<img src=\"https://github.com/RobInLabUJI/NXT-Colab/raw/main/img/obstacle.jpg\" width=160 align=\"right\">](https://www.youtube.com/watch?v=Y22JST1TFHY)\n",
    "\n",
    "Per a evitar obstacles, podeu reutilitzar el codi que vau fer amb el sensor de contacte.\n",
    "\n",
    "Ara llegireu valors del sensor ultrasònic, i si són menors que un llindar, fareu la mateixa maniobra de anar cap enrere i girar."
   ]
  },
  {
   "cell_type": "code",
   "execution_count": null,
   "metadata": {
    "id": "G_QNpimE-fei"
   },
   "outputs": [],
   "source": [
    "from functions import ___"
   ]
  },
  {
   "cell_type": "code",
   "execution_count": null,
   "metadata": {
    "id": "ca7mfD4A_k6Z"
   },
   "outputs": [],
   "source": [
    "try:\n",
    "    while True:\n",
    "        ___\n",
    "except KeyboardInterrupt:\n",
    "    stop() "
   ]
  },
  {
   "cell_type": "markdown",
   "metadata": {
    "id": "J0Q782I0_mcp"
   },
   "source": [
    "## Recapitulem\n",
    "\n",
    "Hem vist ja tots els sensors, al mateix temps que apreníem tècniques de programació.\n",
    "\n",
    "Esteu preparats per al repte final?"
   ]
  },
  {
   "cell_type": "markdown",
   "metadata": {
    "id": "sHpVyIn3_1c3"
   },
   "source": [
    "# 12. Combat de sumo\n",
    "\n",
    "[<img src=\"https://github.com/RobInLabUJI/NXT-Colab/raw/main/img/lego_sumo.jpg\" align=\"right\" width=200>](https://www.youtube.com/watch?v=3tguWcKTXQI)\n",
    "Els combats de sumo són una competició molt popular entre els robots mòbils. Dos robots han de lluitar per traure al contrincant del tatami.\n",
    "\n",
    "En esta pàgina fareu un programa per a que el robot de Lego puga lluitar contra un *sparring*, una caixa que farà de contrincant, a la què ha de traure del tatami."
   ]
  },
  {
   "cell_type": "markdown",
   "metadata": {
    "id": "aHZqTRQpAKI_"
   },
   "source": [
    "## Una possible estratègia\n",
    "\n",
    "S'admeten idees alternatives ;-)\n",
    "\n",
    "1. Localitzar la caixa: el robot girar sobre ell mateix fins que detecta un objecte a distància\n",
    "2. Atacar: el robot avança en la direcció de l'objecte, fins que detecta la línia del tatami\n",
    "3. Recuperar: el robot retrocedeix, i torna a intentar-ho\n"
   ]
  },
  {
   "cell_type": "code",
   "execution_count": null,
   "metadata": {
    "id": "Q-Q_rXYD_o9o"
   },
   "outputs": [],
   "source": [
    "# Ací ha d'anar el vostre codi, ànim!!!"
   ]
  }
 ],
 "metadata": {
  "colab": {
   "authorship_tag": "ABX9TyP2U/DEl1FKBQY0MrW+glnn",
   "include_colab_link": true,
   "name": "NXT-Colab.ipynb",
   "provenance": [],
   "toc_visible": true
  },
  "kernelspec": {
   "display_name": "Python 3",
   "language": "python",
   "name": "python3"
  },
  "language_info": {
   "codemirror_mode": {
    "name": "ipython",
    "version": 3
   },
   "file_extension": ".py",
   "mimetype": "text/x-python",
   "name": "python",
   "nbconvert_exporter": "python",
   "pygments_lexer": "ipython3",
   "version": "3.8.10"
  }
 },
 "nbformat": 4,
 "nbformat_minor": 1
}
