{
  "nbformat": 4,
  "nbformat_minor": 0,
  "metadata": {
    "colab": {
      "name": "NXT-Colab.ipynb",
      "provenance": [],
      "toc_visible": true,
      "authorship_tag": "ABX9TyOf2gou6w2mPF2icTqT3/ZE",
      "include_colab_link": true
    },
    "kernelspec": {
      "name": "python3",
      "display_name": "Python 3"
    },
    "language_info": {
      "name": "python"
    }
  },
  "cells": [
    {
      "cell_type": "markdown",
      "metadata": {
        "id": "view-in-github",
        "colab_type": "text"
      },
      "source": [
        "<a href=\"https://colab.research.google.com/github/RobInLabUJI/NXT-Colab/blob/main/NXT_Colab.ipynb\" target=\"_parent\"><img src=\"https://colab.research.google.com/assets/colab-badge.svg\" alt=\"Open In Colab\"/></a>"
      ]
    },
    {
      "cell_type": "markdown",
      "source": [
        "# NXT Colab\n",
        "\n",
        "Segons la Viquipèdia,\n",
        "\"[**Lego Mindstorms**](https://ca.wikipedia.org/wiki/Lego_Mindstorms) és una línia de jocs d'experimentació centrats en la robòtica, de la casa [Lego](https://ca.wikipedia.org/wiki/Lego). Però les seves possibilitats en fan una eina apreciable en entorns didàctics des de l'escola primària a la universitat\".\n",
        "\n",
        "En aquest taller aprendreu a programar un robot de Lego amb el [llenguatge de programació Python](https://ca.wikipedia.org/wiki/Python), un llenguatge de programació d'alt nivell i propòsit general molt utilitzat. Tingueu o no experiència en programar, no patiu: vos donarem exemples per a provar amb el robot, que poc a poc anirant fent-se més sofisticats.\n",
        "\n",
        "Programareu el robot per a moure's i reaccionar a l'entorn amb els seus sensors: detectar obstacles, seguir línies, ballar, fins i tot lluitar a sumo!\n",
        "\n",
        "<img src=\"https://github.com/RobInLabUJI/NXT-Colab/raw/main/img/nxt.png\" width=300 align=\"centre\">\n",
        "\n",
        "Abans de continuar, assegureu-vos que Colab està connectat a l'entorn d'execució local."
      ],
      "metadata": {
        "id": "euwUuOGl8oxy"
      }
    },
    {
      "cell_type": "markdown",
      "source": [
        "[<img src=\"https://github.com/RobInLabUJI/NXT-Colab/raw/main/img/brick.jpg\" align=\"right\">](https://en.wikipedia.org/wiki/Lego_Mindstorms_NXT#NXT_Intelligent_Brick)\n",
        "# Mindstorms NXT\n",
        "Lego Mindstorms NXT és la segona generació de kits de robòtica de Lego. El controlador NXT permet connectar fins a quatre sensors i tres motors. Té una pantalla de 100 x 60 píxels, un altaveu, i quatre botons. Porta un microprocessador de 32 bits amb 256KB de memòria FLASH i 64KB de RAM, i es pot communicar per USB i Bluetooth amb l'ordinador.\n",
        "\n",
        "En primer lloc **enceneu el controlador amb el botó taronja**. Emetrà un so i apareixerà texte i unes icones a la pantalla. Si no és així, indiqueu-ho al professor de l'aula."
      ],
      "metadata": {
        "id": "RQInM92vq0H3"
      }
    },
    {
      "cell_type": "markdown",
      "source": [
        "# Connexió\n",
        "\n",
        "Assegureu-vos de que el controlador del robot està en marxa, i proveu el següent codi, introduint l'adreça Bluetooth del NXT.\n",
        "\n",
        "Feu clic amb el ratolí sobre el codi, i polseu simultàniament les tecles *Majúscules* i *Enter*."
      ],
      "metadata": {
        "id": "oqoFRMVCs2yk"
      }
    },
    {
      "cell_type": "code",
      "source": [
        "from functions import connect\n",
        "connect(\"<adreça bluetooth del NXT>\")  # Executeu, polsant Majúscules + Enter"
      ],
      "metadata": {
        "id": "93xMinIzrohg"
      },
      "execution_count": null,
      "outputs": []
    },
    {
      "cell_type": "markdown",
      "source": [
        "Si apareix un missatge de confirmació, enhorabona, tot funciona. Si no, hi ha algun problema i haureu de cridar el professor de l'aula.\n",
        "\n",
        "Proveu ara unes ordres senzilles per al robot: moure el robot cap avant durant un segon, i parar."
      ],
      "metadata": {
        "id": "ObOMby78tasV"
      }
    },
    {
      "cell_type": "code",
      "source": [
        "from functions import forward, stop # cliqueu ací, i polseu Majúscules + Enter\n",
        "from time import sleep              # per a executar el bloc d'ordres\n",
        "forward()\n",
        "sleep(1)\n",
        "stop()"
      ],
      "metadata": {
        "id": "qmRGStu6tdxG"
      },
      "execution_count": null,
      "outputs": []
    },
    {
      "cell_type": "markdown",
      "source": [
        "Tot correcte? Magnífic! Durant el taller voreu més ordres i aprendreu a combinar-les fent programes més complicats. "
      ],
      "metadata": {
        "id": "WI3mU77ltf_I"
      }
    },
    {
      "cell_type": "markdown",
      "source": [
        "# Moviments bàsics del robot\n",
        "\n",
        "El robot té dos motors, que controlen cadascuna de les rodes amb uns engranatges. Estan connectats amb cables al controlador, de manera que les ordres del programa es tradueixen en senyals elèctrics per a fer girar els motors.\n",
        "\n",
        "Els motors es controlen independentment, la qual cosa permet diferents moviments:\n",
        "\n",
        "* si els dos motors giren al mateix temps, el robot avança o retrocedeix\n",
        "* si un motor gira i l'altre no, el robot gira a esquerra o dreta\n",
        "\n",
        "Anem a importar la resta de funcions que controlen el moviment, i provarem a moure el robot en totes les direccions."
      ],
      "metadata": {
        "id": "9Dl3W3u0u3d-"
      }
    },
    {
      "cell_type": "code",
      "source": [
        "from functions import left, right, backward"
      ],
      "metadata": {
        "id": "zyrJE5dntjqf"
      },
      "execution_count": null,
      "outputs": []
    },
    {
      "cell_type": "markdown",
      "source": [
        "## Cap avant\n",
        "\n",
        "Per a fer el robot anar cap avant calen tres ordres:\n",
        "* `forward` posa els motors en marxa per a anar cap avant\n",
        "* `sleep` fa una pausa (per exemple 1 segon) durant la qual el robot es mou\n",
        "* `stop` para els motors"
      ],
      "metadata": {
        "id": "vTPr_WBJvSVC"
      }
    },
    {
      "cell_type": "code",
      "source": [
        "forward()\n",
        "sleep(1)\n",
        "stop()"
      ],
      "metadata": {
        "id": "ZU9WY8M_vT8u"
      },
      "execution_count": null,
      "outputs": []
    },
    {
      "cell_type": "markdown",
      "source": [
        "## Cap arrere\n",
        "El mateix, canviant la primera ordre."
      ],
      "metadata": {
        "id": "522kebm1vWHu"
      }
    },
    {
      "cell_type": "code",
      "source": [
        "backward()\n",
        "sleep(1)\n",
        "stop()"
      ],
      "metadata": {
        "id": "qdSqBtDIvYwG"
      },
      "execution_count": null,
      "outputs": []
    },
    {
      "cell_type": "markdown",
      "source": [
        "## Esquerra\n",
        "Idem."
      ],
      "metadata": {
        "id": "3T5nI9Wovame"
      }
    },
    {
      "cell_type": "code",
      "source": [
        "left()\n",
        "sleep(1)\n",
        "stop()"
      ],
      "metadata": {
        "id": "T8gbrhWAvdab"
      },
      "execution_count": null,
      "outputs": []
    },
    {
      "cell_type": "markdown",
      "source": [
        "## Dreta\n",
        "De la mateixa manera, *of course*."
      ],
      "metadata": {
        "id": "XSZIRNqevfkS"
      }
    },
    {
      "cell_type": "code",
      "source": [
        "right()\n",
        "sleep(1)\n",
        "stop()"
      ],
      "metadata": {
        "id": "JLmJICq9vhti"
      },
      "execution_count": null,
      "outputs": []
    },
    {
      "cell_type": "markdown",
      "source": [
        "Tot correcte? Fàcil, no? Anem a comprovar-ho amb el primer exercici."
      ],
      "metadata": {
        "id": "w_I0XoDPvjSq"
      }
    },
    {
      "cell_type": "code",
      "source": [
        ""
      ],
      "metadata": {
        "id": "DGHNoLd4vmFa"
      },
      "execution_count": null,
      "outputs": []
    }
  ]
}