{
  "nbformat": 4,
  "nbformat_minor": 0,
  "metadata": {
    "colab": {
      "name": "NXT-Colab.ipynb",
      "provenance": [],
      "toc_visible": true,
      "authorship_tag": "ABX9TyP0notYvH82DsxMqSGOhFF9",
      "include_colab_link": true
    },
    "kernelspec": {
      "name": "python3",
      "display_name": "Python 3"
    },
    "language_info": {
      "name": "python"
    }
  },
  "cells": [
    {
      "cell_type": "markdown",
      "metadata": {
        "id": "view-in-github",
        "colab_type": "text"
      },
      "source": [
        "<a href=\"https://colab.research.google.com/github/RobInLabUJI/NXT-Colab/blob/main/NXT_Colab.ipynb\" target=\"_parent\"><img src=\"https://colab.research.google.com/assets/colab-badge.svg\" alt=\"Open In Colab\"/></a>"
      ]
    },
    {
      "cell_type": "markdown",
      "source": [
        "# NXT Colab\n",
        "\n",
        "Segons la Viquipèdia,\n",
        "\"[**Lego Mindstorms**](https://ca.wikipedia.org/wiki/Lego_Mindstorms) és una línia de jocs d'experimentació centrats en la robòtica, de la casa [Lego](https://ca.wikipedia.org/wiki/Lego). Però les seves possibilitats en fan una eina apreciable en entorns didàctics des de l'escola primària a la universitat\".\n",
        "\n",
        "En aquest taller aprendreu a programar un robot de Lego amb el [llenguatge de programació Python](https://ca.wikipedia.org/wiki/Python), un llenguatge de programació d'alt nivell i propòsit general molt utilitzat. Tingueu o no experiència en programar, no patiu: vos donarem exemples per a provar amb el robot, que poc a poc anirant fent-se més sofisticats.\n",
        "\n",
        "Programareu el robot per a moure's i reaccionar a l'entorn amb els seus sensors: detectar obstacles, seguir línies, ballar, fins i tot lluitar a sumo!\n",
        "\n",
        "<img src=\"https://github.com/RobInLabUJI/MindstormsColab/raw/main/img/nxt.png\" width=300 align=\"center\">\n",
        "\n",
        "En primer lloc, assegureu-vos que Colab està connectat a l'entorn d'execució local."
      ],
      "metadata": {
        "id": "euwUuOGl8oxy"
      }
    },
    {
      "cell_type": "markdown",
      "source": [
        "# Nueva sección"
      ],
      "metadata": {
        "id": "RQInM92vq0H3"
      }
    }
  ]
}